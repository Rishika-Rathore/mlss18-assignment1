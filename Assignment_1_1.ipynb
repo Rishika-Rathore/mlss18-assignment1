{
 "cells": [
  {
   "cell_type": "code",
   "execution_count": 2,
   "metadata": {},
   "outputs": [],
   "source": [
    "import pickle\n",
    "import numpy as np"
   ]
  },
  {
   "cell_type": "code",
   "execution_count": 5,
   "metadata": {},
   "outputs": [],
   "source": [
    "# Code to load the array\n",
    "with open('array.pickle', 'rb') as p:\n",
    "    arr = pickle.load(p)\n",
    "   # print(len(arr))"
   ]
  },
  {
   "cell_type": "markdown",
   "metadata": {},
   "source": [
    "Check that the size of the array (arr) is 1000. Please report if any discrepancy."
   ]
  },
  {
   "cell_type": "markdown",
   "metadata": {},
   "source": [
    "## Task 1: Resize the array to a (20x50) matrix"
   ]
  },
  {
   "cell_type": "code",
   "execution_count": 18,
   "metadata": {},
   "outputs": [
    {
     "name": "stdout",
     "output_type": "stream",
     "text": [
      "[15.37257892 57.30688297 56.10117003 96.12437944 88.00632422 46.25429846\n",
      " 77.53167364 83.32901988 76.91855695 47.71141046 53.47459128 27.33774824\n",
      "  9.22106818 12.10619377 61.31612551 18.16636231 97.38426399 23.37898353\n",
      " 95.39341399 76.69981839 10.73101469 47.12261331 16.62564166 16.82250204\n",
      " 13.14500648 39.84724414 37.89021561 34.22637795 15.65273801 20.86287724\n",
      " 40.70453324 10.94631408 64.06020516 45.47511469 57.9274773  38.38844163\n",
      " 77.63485956 64.06147863  6.09322132 89.90643304  3.24397797 83.25461565\n",
      "  4.61723916 39.58153219 83.6478877  78.37557601 32.79497137 67.21829186\n",
      " 11.21704335 24.62979235]\n"
     ]
    }
   ],
   "source": [
    "## BEGIN CODE\n",
    "arr=np.resize(arr,(20,50))\n",
    "print(arr[0])\n",
    "\n",
    "## END CODE"
   ]
  },
  {
   "cell_type": "markdown",
   "metadata": {},
   "source": [
    "## Task 2: Find the transpose of this matrix"
   ]
  },
  {
   "cell_type": "code",
   "execution_count": 24,
   "metadata": {},
   "outputs": [],
   "source": [
    "## BEGIN CODE\n",
    "arr2=arr.transpose()\n",
    "#print(arr2)\n",
    "## END CODE"
   ]
  },
  {
   "cell_type": "markdown",
   "metadata": {},
   "source": [
    "## Task 3: Find the dot product of the matrices created in Tasks 1 & 2"
   ]
  },
  {
   "cell_type": "code",
   "execution_count": 27,
   "metadata": {},
   "outputs": [],
   "source": [
    "## BEGIN CODE\n",
    "mul=np.dot(arr,arr2)\n",
    "#print(mul)\n",
    "## END CODE"
   ]
  },
  {
   "cell_type": "markdown",
   "metadata": {},
   "source": [
    "## Task 4: Find the row-wise sum of the resulting matrix"
   ]
  },
  {
   "cell_type": "code",
   "execution_count": 35,
   "metadata": {},
   "outputs": [],
   "source": [
    "## BEGIN CODE\n",
    "ressum=[]\n",
    "for row in mul:\n",
    "    total=0\n",
    "    for i in row:\n",
    "        total=total+i\n",
    "    ressum.append(total)  \n",
    "#print(ressum)    \n",
    "    \n",
    "## END CODE"
   ]
  },
  {
   "cell_type": "markdown",
   "metadata": {},
   "source": [
    "## Task 5: Find the square root of all elements in the resulting matrix"
   ]
  },
  {
   "cell_type": "code",
   "execution_count": 42,
   "metadata": {},
   "outputs": [
    {
     "name": "stdout",
     "output_type": "stream",
     "text": [
      "[1537.9994402143238, 1732.6604974947923, 1667.0886112536336, 1573.9156026929736, 1621.0366675145376, 1490.2361544084492, 1558.7527651425053, 1583.6805950747816, 1568.2214020996332, 1524.8052588418184, 1701.7876190962322, 1661.94526962148, 1631.0958726648678, 1463.3137681137537, 1641.5874683554348, 1501.5020221137045, 1575.0517681574936, 1651.6030150922063, 1608.3513931420948, 1637.4499502808758]\n"
     ]
    }
   ],
   "source": [
    "## BEGIN CODE\n",
    "t=0\n",
    "for i in ressum:\n",
    "    ressum[t]=i**0.5\n",
    "    t=t+1\n",
    "print(ressum)    \n",
    "## END CODE"
   ]
  },
  {
   "cell_type": "markdown",
   "metadata": {},
   "source": [
    "## Task 6: Find the sine value of all elements in the resulting matrix"
   ]
  },
  {
   "cell_type": "code",
   "execution_count": 53,
   "metadata": {},
   "outputs": [],
   "source": [
    "## BEGIN CODE\n",
    "\n",
    "t=np.sin(ressum)\n",
    "\n",
    "## END CODE"
   ]
  },
  {
   "cell_type": "markdown",
   "metadata": {},
   "source": [
    "## Create submission file"
   ]
  },
  {
   "cell_type": "markdown",
   "metadata": {},
   "source": [
    "## Assign the name of the variable containing the final matrix to VARIABLE_NAME variable.\n",
    "\n",
    "VARIABLE_NAME = t\n",
    "with open('submission.pickle', 'wb') as p:\n",
    "    pickle.dump(VARIABLE_NAME, p)"
   ]
  },
  {
   "cell_type": "code",
   "execution_count": null,
   "metadata": {},
   "outputs": [],
   "source": []
  }
 ],
 "metadata": {
  "kernelspec": {
   "display_name": "Python 3",
   "language": "python",
   "name": "python3"
  },
  "language_info": {
   "codemirror_mode": {
    "name": "ipython",
    "version": 3
   },
   "file_extension": ".py",
   "mimetype": "text/x-python",
   "name": "python",
   "nbconvert_exporter": "python",
   "pygments_lexer": "ipython3",
   "version": "3.6.4"
  }
 },
 "nbformat": 4,
 "nbformat_minor": 2
}
